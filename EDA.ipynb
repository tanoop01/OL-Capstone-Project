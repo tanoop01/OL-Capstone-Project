{
 "cells": [
  {
   "cell_type": "markdown",
   "id": "a544b7c9",
   "metadata": {},
   "source": [
    "### Importing the Libraries"
   ]
  },
  {
   "cell_type": "code",
   "execution_count": null,
   "id": "33fe6b7a",
   "metadata": {},
   "outputs": [],
   "source": [
    "import pandas as pd\n",
    "import numpy as np\n",
    "import seaborn as sns\n",
    "import matplotlib.pyplot as plt"
   ]
  },
  {
   "cell_type": "markdown",
   "id": "7aba4e0b",
   "metadata": {},
   "source": [
    "### Loading the dataset "
   ]
  },
  {
   "cell_type": "code",
   "execution_count": null,
   "id": "c1365f88",
   "metadata": {},
   "outputs": [],
   "source": [
    "# Loading the dataset into pandas dataframe\n",
    "df = pd.read_csv('survey.csv')"
   ]
  },
  {
   "cell_type": "markdown",
   "id": "9ff173d5",
   "metadata": {},
   "source": [
    "### Knowing the data"
   ]
  },
  {
   "cell_type": "code",
   "execution_count": null,
   "id": "5d07c9b2",
   "metadata": {},
   "outputs": [],
   "source": [
    "print(\"Shape:\", df.shape)  #Shows the number of rows and columns"
   ]
  },
  {
   "cell_type": "code",
   "execution_count": null,
   "id": "9920fecb",
   "metadata": {},
   "outputs": [],
   "source": [
    "df.sample(10)  #Shows data from 10 random rows"
   ]
  },
  {
   "cell_type": "code",
   "execution_count": null,
   "id": "02f182ff",
   "metadata": {},
   "outputs": [],
   "source": [
    "df.info()  #Shows the data type of each column"
   ]
  },
  {
   "cell_type": "code",
   "execution_count": null,
   "id": "a30197a5",
   "metadata": {},
   "outputs": [],
   "source": [
    "df.isnull().sum()  #Shows the number of null values in each column"
   ]
  },
  {
   "cell_type": "markdown",
   "id": "921419d5",
   "metadata": {},
   "source": [
    "### Cleaning the dataset"
   ]
  },
  {
   "cell_type": "markdown",
   "id": "68462773",
   "metadata": {},
   "source": [
    "#### Unnecessary columns\n",
    "Columns - \"Timestamp\", \"state\", \"comments\" contain a lot of null values and are of less importance for our data model.  \n",
    "Thus these are to be dropped from the dataset."
   ]
  },
  {
   "cell_type": "code",
   "execution_count": null,
   "id": "a0113cae",
   "metadata": {},
   "outputs": [],
   "source": [
    "# Dropping 'Timestamp', 'state', 'comments' columns :\n",
    "df = df.drop(columns=['Timestamp', 'state', 'comments'])"
   ]
  },
  {
   "cell_type": "markdown",
   "id": "ede73317",
   "metadata": {},
   "source": [
    "#### Age column\n",
    "Values in the'Age' column need to brought between a valid range i.e., 0 to 100."
   ]
  },
  {
   "cell_type": "code",
   "execution_count": null,
   "id": "aab3a17b",
   "metadata": {},
   "outputs": [],
   "source": [
    "# Clean 'Age' column\n",
    "df.drop(df[df['Age'] < 0].index, inplace=True)\n",
    "df.drop(df[df['Age'] > 100].index, inplace=True)"
   ]
  },
  {
   "cell_type": "markdown",
   "id": "fb1196f1",
   "metadata": {},
   "source": [
    "#### Gender column\n",
    "Gender is a categorical entity so it should ideally have only three categories : Female, Male and Others(involving categories other than female and male).  \n",
    "So, the entries in the 'Gender' column need to be mapped with the above categories."
   ]
  },
  {
   "cell_type": "code",
   "execution_count": null,
   "id": "82668e5a",
   "metadata": {},
   "outputs": [],
   "source": [
    "df['Gender'].replace(['Male ', 'male', 'M', 'm', 'Male', 'Cis Male',\n",
    "                     'Man', 'cis male', 'Mail', 'Male-ish', 'Male (CIS)',\n",
    "                     'Cis Man', 'msle', 'Malr', 'Mal', 'maile', 'Make'], 'Male', inplace=True)\n",
    "\n",
    "df['Gender'].replace(['Female ', 'female', 'F', 'f', 'Woman', 'Female',\n",
    "                     'femail', 'Cis Female', 'cis-female/femme', 'Femake', 'Female (cis)',\n",
    "                     'woman'], 'Female', inplace=True)\n",
    "\n",
    "df['Gender'].replace(['Female (trans)', 'queer/she/they', 'non-binary',\n",
    "                     'fluid', 'queer', 'Androgyne', 'Trans-female', 'male leaning androgynous',\n",
    "                     'Agender', 'A little about you', 'Nah', 'All',\n",
    "                     'ostensibly male, unsure what that really means',\n",
    "                     'Genderqueer', 'Enby', 'p', 'Neuter', 'something kinda male?',\n",
    "                     'Guy (-ish) ^_^', 'Trans woman'], 'Other', inplace=True)\n",
    "df['Gender'].value_counts()"
   ]
  },
  {
   "cell_type": "markdown",
   "id": "cc18f459",
   "metadata": {},
   "source": [
    "### Handling missing values"
   ]
  },
  {
   "cell_type": "code",
   "execution_count": null,
   "id": "7fbbcddf",
   "metadata": {},
   "outputs": [],
   "source": [
    "# Filling the missing values\n",
    "df.isnull().sum()\n",
    "df['self_employed'].fillna('No', inplace=True)\n",
    "df['work_interfere'].fillna('N/A', inplace=True)\n"
   ]
  },
  {
   "cell_type": "markdown",
   "id": "bbbdf220",
   "metadata": {},
   "source": [
    "#### Checking for the uniqueness of data"
   ]
  },
  {
   "cell_type": "code",
   "execution_count": null,
   "id": "f9d1a6a1",
   "metadata": {},
   "outputs": [],
   "source": [
    "# Checking the number of unique values in each column\n",
    "print(\"Duplicates:\", df.duplicated().sum())\n",
    "df = df.drop_duplicates()\n",
    "\n",
    "# Checking the number of unique categories in each column\n",
    "for i in df.columns:\n",
    "    print(f\"{i} : {df[i].unique()}\")"
   ]
  },
  {
   "cell_type": "markdown",
   "id": "77d1486f",
   "metadata": {},
   "source": [
    "#### Saving the cleaned dataset "
   ]
  },
  {
   "cell_type": "code",
   "execution_count": 134,
   "id": "61785df2",
   "metadata": {},
   "outputs": [],
   "source": [
    "df_cleaned=df\n",
    "df_cleaned.to_csv(\"cleaned_data.csv\", index=False)"
   ]
  },
  {
   "cell_type": "markdown",
   "id": "ffdbed19",
   "metadata": {},
   "source": [
    "### Visualizing the data"
   ]
  },
  {
   "cell_type": "markdown",
   "id": "551e8a84",
   "metadata": {},
   "source": [
    "#### Countplot and Histoplot"
   ]
  },
  {
   "cell_type": "code",
   "execution_count": null,
   "id": "840c140d",
   "metadata": {},
   "outputs": [],
   "source": [
    "# Age distribution\n",
    "\n",
    "sns.histplot(df['Age'],kde=True, bins=25)\n",
    "plt.title('Age Distribution')\n",
    "plt.xlabel('Age'),\n",
    "plt.ylabel('Count')\n",
    "plt.show()"
   ]
  },
  {
   "cell_type": "code",
   "execution_count": null,
   "id": "9577982e",
   "metadata": {},
   "outputs": [],
   "source": [
    "# Gender distribution\n",
    "\n",
    "sns.countplot(x='Gender', hue='treatment',data=df, order=df['Gender'].value_counts().index)\n",
    "plt.title('Gender Distribution')\n",
    "plt.ylabel('Count')\n",
    "plt.xlabel('Gender')\n",
    "plt.show()"
   ]
  },
  {
   "cell_type": "code",
   "execution_count": null,
   "id": "89c7cb32",
   "metadata": {},
   "outputs": [],
   "source": [
    "# Treatment distribution\n",
    "sns.countplot(x='treatment', data=df)\n",
    "plt.title('Distribution of Seeking Treatment')\n",
    "plt.xlabel('Sought Treatment for Mental Health')\n",
    "plt.ylabel('Count')\n",
    "plt.show()"
   ]
  },
  {
   "cell_type": "code",
   "execution_count": null,
   "id": "d8bb5c24",
   "metadata": {},
   "outputs": [],
   "source": [
    "#Self Employment Distribution\n",
    "sns.countplot(x='self_employed', hue='treatment',data=df, order=df['self_employed'].value_counts().index)\n",
    "plt.title('Self Employment Distribution')\n",
    "plt.xlabel('Self Employed')\n",
    "plt.ylabel('count')\n",
    "plt.show()"
   ]
  },
  {
   "cell_type": "code",
   "execution_count": null,
   "id": "e0aa7f34",
   "metadata": {},
   "outputs": [],
   "source": [
    "#Family History Distribution\n",
    "sns.countplot(x='family_history', hue='treatment', data=df, order=df['family_history'].value_counts().index)\n",
    "plt.title('Family History Distribution')\n",
    "plt.xlabel('Family History')\n",
    "plt.ylabel('count')\n",
    "plt.show()\n"
   ]
  },
  {
   "cell_type": "code",
   "execution_count": null,
   "id": "c14cc072",
   "metadata": {},
   "outputs": [],
   "source": [
    "#Work Interference Distribution\n",
    "sns.countplot(x='work_interfere', hue='treatment', data=df, order=df['work_interfere'].value_counts().index)\n",
    "plt.title('Work Interference Distribution')\n",
    "plt.xlabel('Work Interference')\n",
    "plt.ylabel('count')\n",
    "plt.show()\n"
   ]
  },
  {
   "cell_type": "code",
   "execution_count": null,
   "id": "57732040",
   "metadata": {},
   "outputs": [],
   "source": [
    "# Work Interference Distribution\n",
    "sns.countplot(x='no_employees', hue='treatment',data=df, order=df['no_employees'].value_counts().index)\n",
    "plt.title('Number of Employees Distribution')\n",
    "plt.xlabel('Number of Employees')\n",
    "plt.ylabel('count')\n",
    "plt.show()\n"
   ]
  },
  {
   "cell_type": "code",
   "execution_count": null,
   "id": "2557c28f",
   "metadata": {},
   "outputs": [],
   "source": [
    "#Remote Work Distribution\n",
    "sns.countplot(x='remote_work', hue='treatment',data=df, order=df['remote_work'].value_counts().index)\n",
    "plt.title('Remote Work Distribution')\n",
    "plt.xlabel('remote_work')\n",
    "plt.ylabel('count')\n",
    "plt.show()\n"
   ]
  },
  {
   "cell_type": "code",
   "execution_count": null,
   "id": "9e40bdd1",
   "metadata": {},
   "outputs": [],
   "source": [
    "#Tech Company Distribution\n",
    "sns.countplot(x='tech_company', hue='treatment',data=df, order=df['tech_company'].value_counts().index)\n",
    "plt.title('Tech Company Distribution')\n",
    "plt.xlabel('Tech Company')\n",
    "plt.ylabel('count')\n",
    "plt.show()\n"
   ]
  },
  {
   "cell_type": "code",
   "execution_count": null,
   "id": "32e798b2",
   "metadata": {},
   "outputs": [],
   "source": [
    "# Relationship between company benefits and seeking treatment\n",
    "sns.countplot(x='benefits', hue='treatment', data=df)\n",
    "plt.title('Effect of Company Benefits on Seeking Treatment')\n",
    "plt.xlabel('Does the company provide mental health benefits?')\n",
    "plt.ylabel('Count')\n",
    "plt.legend(title='Sought Treatment')\n",
    "plt.show()\n"
   ]
  },
  {
   "cell_type": "code",
   "execution_count": null,
   "id": "44af8e1e",
   "metadata": {},
   "outputs": [],
   "source": [
    "# Relationship between wellness programs and seeking treatment\n",
    "sns.countplot(x='wellness_program', hue='treatment', data=df)\n",
    "plt.title('Effect of Wellness Programs on Seeking Treatment')\n",
    "plt.xlabel('Has the company discussed mental health as part of a wellness program?')\n",
    "plt.ylabel('Count')\n",
    "plt.legend(title='Sought Treatment')\n",
    "plt.show()"
   ]
  },
  {
   "cell_type": "code",
   "execution_count": null,
   "id": "8e623505",
   "metadata": {},
   "outputs": [],
   "source": [
    "# Relationship between ease of taking medical leave and seeking treatment\n",
    "sns.countplot(x='leave', hue='treatment', data=df, order=['Very easy', 'Somewhat easy', \"Don't know\", 'Somewhat difficult', 'Very difficult'])\n",
    "plt.title('Effect of Leave Policy on Seeking Treatment')\n",
    "plt.xlabel('How easy is it to take medical leave for a mental health condition?')\n",
    "plt.ylabel('Count')\n",
    "plt.xticks(rotation=45)\n",
    "plt.legend(title='Sought Treatment')\n",
    "plt.show()"
   ]
  },
  {
   "cell_type": "markdown",
   "id": "65ebfb5c",
   "metadata": {},
   "source": [
    "### Encoding Categorical Data"
   ]
  },
  {
   "cell_type": "code",
   "execution_count": null,
   "id": "fd57d352",
   "metadata": {},
   "outputs": [],
   "source": [
    "from sklearn.preprocessing import LabelEncoder\n",
    "\n",
    "# Creating a copy for encoding :\n",
    "df_encoded = df.copy()"
   ]
  },
  {
   "cell_type": "code",
   "execution_count": null,
   "id": "40b9af89",
   "metadata": {},
   "outputs": [],
   "source": [
    "# Applying label encoding to all categorical columns : \n",
    "for col in df_encoded.select_dtypes(include='object').columns:\n",
    "    le = LabelEncoder()\n",
    "    df_encoded[col] = le.fit_transform(df_encoded[col])"
   ]
  },
  {
   "cell_type": "code",
   "execution_count": null,
   "id": "e3ff1fd4",
   "metadata": {},
   "outputs": [],
   "source": [
    "# Calculate the correlation matrix\n",
    "corr_matrix = df_encoded.corr()"
   ]
  },
  {
   "cell_type": "code",
   "execution_count": null,
   "id": "07c1d7f6",
   "metadata": {},
   "outputs": [],
   "source": [
    "# Plot the heatmap\n",
    "sns.heatmap(corr_matrix, annot=False, cmap='coolwarm')\n",
    "plt.title('Correlation Matrix of All Features')\n",
    "plt.show()"
   ]
  },
  {
   "cell_type": "code",
   "execution_count": null,
   "id": "dc67dbed",
   "metadata": {},
   "outputs": [],
   "source": [
    "# Focusing on correlations with \"treatment\"\n",
    "corr_treatment = corr_matrix['treatment'].sort_values(ascending=False)\n",
    "print(\"Top correlations with seeking treatment:\")\n",
    "print(corr_treatment.head(5))"
   ]
  }
 ],
 "metadata": {
  "kernelspec": {
   "display_name": "myenv",
   "language": "python",
   "name": "python3"
  },
  "language_info": {
   "codemirror_mode": {
    "name": "ipython",
    "version": 3
   },
   "file_extension": ".py",
   "mimetype": "text/x-python",
   "name": "python",
   "nbconvert_exporter": "python",
   "pygments_lexer": "ipython3",
   "version": "3.13.5"
  }
 },
 "nbformat": 4,
 "nbformat_minor": 5
}
